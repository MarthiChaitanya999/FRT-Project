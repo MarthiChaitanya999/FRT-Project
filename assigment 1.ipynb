{
 "cells": [
  {
   "cell_type": "code",
   "execution_count": 1,
   "id": "7dd9f054-b622-450e-8ef0-42f83c649864",
   "metadata": {},
   "outputs": [],
   "source": [
    "s1=\"Chaitanya\""
   ]
  },
  {
   "cell_type": "code",
   "execution_count": 2,
   "id": "f55905dc-4b3f-4e86-a8f6-2a36ce9b8d4f",
   "metadata": {},
   "outputs": [
    {
     "data": {
      "text/plain": [
       "'Chaitanya'"
      ]
     },
     "execution_count": 2,
     "metadata": {},
     "output_type": "execute_result"
    }
   ],
   "source": [
    "s1"
   ]
  },
  {
   "cell_type": "code",
   "execution_count": 3,
   "id": "8b12c415-85c8-40a1-85e0-1312f86f2280",
   "metadata": {},
   "outputs": [],
   "source": [
    "s1=[2,3,4,5,\"chaitu\",True,False]"
   ]
  },
  {
   "cell_type": "code",
   "execution_count": 4,
   "id": "bf0ba64b-8943-4b8b-9065-69ba4942e541",
   "metadata": {},
   "outputs": [
    {
     "data": {
      "text/plain": [
       "[2, 3, 4, 5, 'chaitu', True, False]"
      ]
     },
     "execution_count": 4,
     "metadata": {},
     "output_type": "execute_result"
    }
   ],
   "source": [
    "s1"
   ]
  },
  {
   "cell_type": "code",
   "execution_count": 5,
   "id": "b02d7644-cc62-4e39-83d2-15c1434413e9",
   "metadata": {},
   "outputs": [],
   "source": [
    "s1=1.3"
   ]
  },
  {
   "cell_type": "code",
   "execution_count": 6,
   "id": "eb2fd5b9-f978-4c46-98c8-a20ce0022df9",
   "metadata": {},
   "outputs": [
    {
     "data": {
      "text/plain": [
       "float"
      ]
     },
     "execution_count": 6,
     "metadata": {},
     "output_type": "execute_result"
    }
   ],
   "source": [
    "type(s1)"
   ]
  },
  {
   "cell_type": "code",
   "execution_count": 10,
   "id": "2e402c62-f4d6-4d06-94fb-90c0a92261d0",
   "metadata": {},
   "outputs": [],
   "source": [
    "s1=(2,3,4,5,\"Chaitu\",True,False,1)"
   ]
  },
  {
   "cell_type": "code",
   "execution_count": 11,
   "id": "b43c124e-32c9-49a7-864f-168a079962e6",
   "metadata": {},
   "outputs": [
    {
     "data": {
      "text/plain": [
       "(2, 3, 4, 5, 'Chaitu', True, False, 1)"
      ]
     },
     "execution_count": 11,
     "metadata": {},
     "output_type": "execute_result"
    }
   ],
   "source": [
    "s1"
   ]
  },
  {
   "cell_type": "code",
   "execution_count": 12,
   "id": "22f74de0-0ec1-44a7-832f-1d92cae491d6",
   "metadata": {},
   "outputs": [
    {
     "data": {
      "text/plain": [
       "tuple"
      ]
     },
     "execution_count": 12,
     "metadata": {},
     "output_type": "execute_result"
    }
   ],
   "source": [
    "type(s1)"
   ]
  },
  {
   "cell_type": "code",
   "execution_count": 16,
   "id": "670efc14-66fa-483e-aeac-2291252b4f2d",
   "metadata": {},
   "outputs": [],
   "source": [
    "#Quesion no 2"
   ]
  },
  {
   "cell_type": "code",
   "execution_count": 17,
   "id": "9dd910c5-86a1-42ba-8979-ea48fae62980",
   "metadata": {},
   "outputs": [],
   "source": [
    "var1=''"
   ]
  },
  {
   "cell_type": "code",
   "execution_count": 18,
   "id": "a85982c4-bff3-4501-94e3-18eeecaadbbc",
   "metadata": {},
   "outputs": [
    {
     "data": {
      "text/plain": [
       "str"
      ]
     },
     "execution_count": 18,
     "metadata": {},
     "output_type": "execute_result"
    }
   ],
   "source": [
    "type(var1)"
   ]
  },
  {
   "cell_type": "code",
   "execution_count": 21,
   "id": "554ba3d6-d7c4-4416-a5e7-887583be32a8",
   "metadata": {},
   "outputs": [],
   "source": [
    "var2 ='[ DS , ML , Python]'"
   ]
  },
  {
   "cell_type": "code",
   "execution_count": 23,
   "id": "1c528bb4-8c98-4d74-b1cb-584c408921c3",
   "metadata": {},
   "outputs": [
    {
     "data": {
      "text/plain": [
       "str"
      ]
     },
     "execution_count": 23,
     "metadata": {},
     "output_type": "execute_result"
    }
   ],
   "source": [
    "type(var2)"
   ]
  },
  {
   "cell_type": "code",
   "execution_count": 25,
   "id": "e3c81b68-4492-40a8-836b-af9565f5fb41",
   "metadata": {},
   "outputs": [],
   "source": [
    "var3 = ['DS' , 'ML' , 'Python' ]"
   ]
  },
  {
   "cell_type": "code",
   "execution_count": 26,
   "id": "90806e5c-5c28-4066-bd87-93fa20092c5d",
   "metadata": {},
   "outputs": [
    {
     "data": {
      "text/plain": [
       "list"
      ]
     },
     "execution_count": 26,
     "metadata": {},
     "output_type": "execute_result"
    }
   ],
   "source": [
    "type(var3)"
   ]
  },
  {
   "cell_type": "code",
   "execution_count": 29,
   "id": "8160a430-87ff-44a1-9658-7403148ac071",
   "metadata": {},
   "outputs": [],
   "source": [
    "var4 = 1"
   ]
  },
  {
   "cell_type": "code",
   "execution_count": 30,
   "id": "8db95186-33e4-46ee-b8aa-0352e1a04b0a",
   "metadata": {},
   "outputs": [
    {
     "data": {
      "text/plain": [
       "int"
      ]
     },
     "execution_count": 30,
     "metadata": {},
     "output_type": "execute_result"
    }
   ],
   "source": [
    "type(var4)"
   ]
  },
  {
   "cell_type": "code",
   "execution_count": 31,
   "id": "0b8abafe-c829-46b6-9663-73c82c1c51ef",
   "metadata": {},
   "outputs": [],
   "source": [
    "#Question no 3"
   ]
  },
  {
   "cell_type": "code",
   "execution_count": 32,
   "id": "9669decf-041c-4d70-86b7-44d429d5a940",
   "metadata": {},
   "outputs": [
    {
     "data": {
      "text/plain": [
       "0.5"
      ]
     },
     "execution_count": 32,
     "metadata": {},
     "output_type": "execute_result"
    }
   ],
   "source": [
    "20/40"
   ]
  },
  {
   "cell_type": "code",
   "execution_count": 33,
   "id": "11dbc79d-77f3-4021-bf2a-7f146aa77359",
   "metadata": {},
   "outputs": [
    {
     "data": {
      "text/plain": [
       "20"
      ]
     },
     "execution_count": 33,
     "metadata": {},
     "output_type": "execute_result"
    }
   ],
   "source": [
    "20%40"
   ]
  },
  {
   "cell_type": "code",
   "execution_count": 34,
   "id": "ca29414c-857f-4fbc-a7e0-4132fa0987fa",
   "metadata": {},
   "outputs": [
    {
     "data": {
      "text/plain": [
       "0"
      ]
     },
     "execution_count": 34,
     "metadata": {},
     "output_type": "execute_result"
    }
   ],
   "source": [
    "20//40"
   ]
  },
  {
   "cell_type": "code",
   "execution_count": 35,
   "id": "b0fb4f5e-d6db-4924-a51e-b2a142892331",
   "metadata": {},
   "outputs": [
    {
     "data": {
      "text/plain": [
       "10995116277760000000000000000000000000000000000000000"
      ]
     },
     "execution_count": 35,
     "metadata": {},
     "output_type": "execute_result"
    }
   ],
   "source": [
    "20**40"
   ]
  },
  {
   "cell_type": "code",
   "execution_count": 36,
   "id": "e1116e39-8c86-4eb8-b37b-32ef2e77bd1e",
   "metadata": {},
   "outputs": [],
   "source": [
    "#Question no 4"
   ]
  },
  {
   "cell_type": "code",
   "execution_count": 40,
   "id": "5c331e71-74e0-4f9e-9671-f46f47a82986",
   "metadata": {},
   "outputs": [],
   "source": [
    "my_list = [1, 'two', 3.14, True, 'apple','name', None, (4, 5), 'b', 10.5]\n",
    "\n",
    "\n"
   ]
  },
  {
   "cell_type": "code",
   "execution_count": 41,
   "id": "9408279a-2cf5-48ac-9ef1-dab742f4cbad",
   "metadata": {},
   "outputs": [
    {
     "name": "stdout",
     "output_type": "stream",
     "text": [
      "1 <class 'int'>\n",
      "two <class 'str'>\n",
      "3.14 <class 'float'>\n",
      "True <class 'bool'>\n",
      "apple <class 'str'>\n",
      "name <class 'str'>\n",
      "None <class 'NoneType'>\n",
      "(4, 5) <class 'tuple'>\n",
      "b <class 'str'>\n",
      "10.5 <class 'float'>\n"
     ]
    }
   ],
   "source": [
    "for item in my_list:\n",
    "    print(item, type(item))"
   ]
  },
  {
   "cell_type": "code",
   "execution_count": 52,
   "id": "59a48301-2e61-44fc-af58-c3e4e86d3225",
   "metadata": {},
   "outputs": [],
   "source": [
    "A=10\n",
    "B=20 \n",
    "count=0\n",
    "while A%B==0:\n",
    "    A=A//B\n",
    "    count+=1\n",
    "    print(\"A is Div by B\",count,'times')"
   ]
  },
  {
   "cell_type": "code",
   "execution_count": null,
   "id": "97c01654-71cd-4a1a-886a-eca42501b8cc",
   "metadata": {},
   "outputs": [],
   "source": [
    "A = 12\n",
    "B = 23\n",
    "\n",
    "count = 0  # Counter to keep track of the number of divisions\n",
    "\n",
    "while A % B == 0:\n",
    "    A = A // B\n",
    "    count += 1\n",
    "\n",
    "print(\"Number A is divisible by B\", count, \"times.\")\n"
   ]
  },
  {
   "cell_type": "code",
   "execution_count": 55,
   "id": "1bf6e8f3-47ca-41cb-ad33-942c1ea9f3b2",
   "metadata": {},
   "outputs": [],
   "source": [
    "#Question no 6"
   ]
  },
  {
   "cell_type": "code",
   "execution_count": null,
   "id": "3f1c9256-be3d-458e-9170-a2ce66e176b8",
   "metadata": {},
   "outputs": [],
   "source": [
    "my_list = [12, 8, 440, 1002, 789, 459, 156, 207, 353, 12, 6, 15, 30, 4, 8, 25, 17, 22, 36, 19, 16, 11, 3, 2, 55]\n",
    "\n",
    "for element in my_list:\n",
    "    if element % 3 == 0:\n",
    "        print(element, \"is divisible by 3\")\n",
    "    else:\n",
    "        print(element, \"is not divisible by 3\")"
   ]
  },
  {
   "cell_type": "code",
   "execution_count": null,
   "id": "ab7c9640-0c69-42d5-93da-a050038fbc25",
   "metadata": {},
   "outputs": [],
   "source": [
    "#question no 7"
   ]
  },
  {
   "cell_type": "code",
   "execution_count": null,
   "id": "0cbfcb43-8f0f-4495-bcd1-bdf6f1d552b6",
   "metadata": {},
   "outputs": [],
   "source": [
    "#mutable"
   ]
  },
  {
   "cell_type": "code",
   "execution_count": null,
   "id": "74ee7304-d7db-4e8a-9604-794f0bd174a1",
   "metadata": {},
   "outputs": [],
   "source": [
    "c1=[12,22,33,44,66,77,88]"
   ]
  },
  {
   "cell_type": "code",
   "execution_count": null,
   "id": "8393e964-9f67-4af1-acd5-001525117b1f",
   "metadata": {},
   "outputs": [],
   "source": [
    "c1[2]=99"
   ]
  },
  {
   "cell_type": "code",
   "execution_count": null,
   "id": "7b953017-5f71-424e-87fc-b6f7f5fc9f26",
   "metadata": {},
   "outputs": [],
   "source": [
    "c1"
   ]
  },
  {
   "cell_type": "code",
   "execution_count": null,
   "id": "22620d5f-4a55-47ff-bf61-307bbe6b1c23",
   "metadata": {},
   "outputs": [],
   "source": [
    "c1=[12,22,33,44,66,77,88,'Chaitanya']"
   ]
  },
  {
   "cell_type": "code",
   "execution_count": null,
   "id": "abb616e5-2d03-4aa4-a1b6-89fc9c94b4b5",
   "metadata": {},
   "outputs": [],
   "source": [
    "c1[7]"
   ]
  }
 ],
 "metadata": {
  "kernelspec": {
   "display_name": "Python 3 (ipykernel)",
   "language": "python",
   "name": "python3"
  },
  "language_info": {
   "codemirror_mode": {
    "name": "ipython",
    "version": 3
   },
   "file_extension": ".py",
   "mimetype": "text/x-python",
   "name": "python",
   "nbconvert_exporter": "python",
   "pygments_lexer": "ipython3",
   "version": "3.10.8"
  }
 },
 "nbformat": 4,
 "nbformat_minor": 5
}
